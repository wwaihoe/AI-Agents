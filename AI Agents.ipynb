{
 "cells": [
  {
   "cell_type": "code",
   "execution_count": 5,
   "metadata": {},
   "outputs": [
    {
     "name": "stderr",
     "output_type": "stream",
     "text": [
      "llama_init_from_model: n_ctx_per_seq (4000) < n_ctx_train (131072) -- the full capacity of the model will not be utilized\n"
     ]
    }
   ],
   "source": [
    "from llama_cpp import Llama\n",
    "\n",
    "# Load the model on GPU\n",
    "llm = Llama(\n",
    "  model_path=\"./qwen2.5-7b-instruct-q4_k_m.gguf\",\n",
    "  n_gpu_layers=9999,\n",
    "  seed=23,\n",
    "  n_ctx=4000,\n",
    "  verbose=False\n",
    ")"
   ]
  },
  {
   "cell_type": "code",
   "execution_count": 9,
   "metadata": {},
   "outputs": [],
   "source": [
    "from pydantic import BaseModel\n",
    "from typing import List, Dict, Any, Optional\n",
    "\n",
    "class AgentTool:\n",
    "  def __init__(self, name, description, input_schema, output_schema):\n",
    "    self.name = name\n",
    "    self.description = description\n",
    "    self.input_schema = input_schema\n",
    "    self.output_schema = output_schema\n",
    "  def __call__(self):\n",
    "    return None\n",
    "  def get_tool_input(self, text_input):\n",
    "    return None"
   ]
  },
  {
   "cell_type": "code",
   "execution_count": 12,
   "metadata": {},
   "outputs": [],
   "source": [
    "class ChatbotInput(BaseModel):\n",
    "  text: str\n",
    "\n",
    "class ChatbotOutput(BaseModel):\n",
    "  response: str\n",
    "\n",
    "class Chatbot(AgentTool):\n",
    "  def __init__(self):\n",
    "    super().__init__(\n",
    "      name=\"Chatbot\",\n",
    "      description=\"An intelligent AI chatbot that can generate human-like responses to text input and can be used to provide information, answer questions, and engage in conversation.\",\n",
    "      input_schema=ChatbotInput,\n",
    "      output_schema=ChatbotOutput\n",
    "    )\n",
    "  def __call__(self, text):\n",
    "    chatbot_input = self.get_tool_input(text)\n",
    "    text = chatbot_input.text\n",
    "    response = llm.create_chat_completion(\n",
    "      messages = [\n",
    "        {\"role\": \"system\", \"content\": \"You are a helpful assistant.\"},\n",
    "        {\n",
    "          \"role\": \"user\",\n",
    "          \"content\": text\n",
    "        }\n",
    "      ],\n",
    "      max_tokens=1000,\n",
    "    )\n",
    "    response = response['choices'][0]['message']['content']\n",
    "    return ChatbotOutput(response=response)\n",
    "\n",
    "  def get_tool_input(self, text_input):\n",
    "    return ChatbotInput(text=text_input)"
   ]
  },
  {
   "cell_type": "code",
   "execution_count": 13,
   "metadata": {},
   "outputs": [
    {
     "name": "stdout",
     "output_type": "stream",
     "text": [
      "response=\"Hello! I'm just a computer program, so I don't have feelings or consciousness. But I'm here and ready to help you with any questions or conversations you'd like to have. How can I assist you today?\"\n"
     ]
    }
   ],
   "source": [
    "# Test the chatbot\n",
    "chatbot = Chatbot()\n",
    "response = chatbot(\"Hello, how are you?\")\n",
    "print(response)"
   ]
  },
  {
   "cell_type": "code",
   "execution_count": 14,
   "metadata": {},
   "outputs": [],
   "source": [
    "class CalculatorInput(BaseModel):\n",
    "  operation: str\n",
    "  a: float\n",
    "  b: float\n",
    "\n",
    "class CalculatorOutput(BaseModel):\n",
    "  result: Optional[float]\n",
    "\n",
    "class Calculator(AgentTool):\n",
    "  def __init__(self):\n",
    "    super().__init__(\n",
    "      name=\"Calculator\",\n",
    "      description=\"A simple calculator tool for arithmetic operations.\",\n",
    "      input_schema=CalculatorInput,\n",
    "      output_schema=CalculatorOutput\n",
    "    )\n",
    "    \n",
    "  def __call__(self, input_text):\n",
    "    calculator_input = self.get_tool_input(input_text)\n",
    "    operation = calculator_input.operation\n",
    "    a = calculator_input.a\n",
    "    b = calculator_input.b\n",
    "    result = None\n",
    "    if operation == \"add\":\n",
    "      result = self.add(a, b)\n",
    "    elif operation == \"subtract\":\n",
    "      result = self.subtract(a, b)\n",
    "    elif operation == \"multiply\":\n",
    "      result = self.multiply(a, b)\n",
    "    elif operation == \"divide\":\n",
    "      result = self.divide(a, b)\n",
    "    else:\n",
    "      result = None\n",
    "\n",
    "    return CalculatorOutput(result=result)\n",
    "\n",
    "  def get_tool_input(self, input_text):\n",
    "    response = llm.create_chat_completion(\n",
    "      messages = [\n",
    "        {\"role\": \"system\", \"content\": \"You are a helpful assistant who excels at extracting the operation and numbers for an arithmetic operation from the user input. Return your response in the following XML format: <response><operation>{'add', 'subtract', 'multiply' or 'divide'}</operation><a>{operand a}</a><b>{operand b}</b></response>\"},\n",
    "        {\n",
    "          \"role\": \"user\",\n",
    "          \"content\": f\"Please extract the operation and numbers from the following text: <text>{input_text}</text>. <response>\"\n",
    "        }\n",
    "      ]\n",
    "    )\n",
    "    response_text = response['choices'][0]['message']['content']\n",
    "    operation = response_text.split(\"<operation>\")[1].split(\"</operation>\")[0]\n",
    "    a = float(response_text.split(\"<a>\")[1].split(\"</a>\")[0])\n",
    "    b = float(response_text.split(\"<b>\")[1].split(\"</b>\")[0])\n",
    "    return self.input_schema(operation=operation, a=a, b=b)\n",
    "    \n",
    "  def add(self, a, b):\n",
    "    return a + b\n",
    "\n",
    "  def subtract(self, a, b):\n",
    "    return a - b\n",
    "\n",
    "  def multiply(self, a, b):\n",
    "    return a * b\n",
    "\n",
    "  def divide(self, a, b):\n",
    "    return a / b"
   ]
  },
  {
   "cell_type": "code",
   "execution_count": 15,
   "metadata": {},
   "outputs": [
    {
     "data": {
      "text/plain": [
       "CalculatorOutput(result=8.0)"
      ]
     },
     "execution_count": 15,
     "metadata": {},
     "output_type": "execute_result"
    }
   ],
   "source": [
    "# Test calculator tool\n",
    "calculator = Calculator()\n",
    "calculator(\"What is 5 plus 3?\")"
   ]
  },
  {
   "cell_type": "code",
   "execution_count": 19,
   "metadata": {},
   "outputs": [],
   "source": [
    "import re\n",
    "\n",
    "class Agent:\n",
    "  def __init__(self, tools):\n",
    "    self.tools = tools\n",
    "\n",
    "  def __call__(self, input):\n",
    "    tool = self.get_tool(input, self.tools)\n",
    "    if tool is None:\n",
    "      return \"I am unable to help you.\"\n",
    "    else:\n",
    "      response = tool(input)\n",
    "      return response\n",
    "\n",
    "  def get_tool(self, input: str, tools: list):\n",
    "    # create json string with tools with their names and descriptions\n",
    "    tools_dict = [\n",
    "      {\"name\": tool.name, \"description\": tool.description}\n",
    "      for tool in tools\n",
    "    ]\n",
    "\n",
    "    response = llm.create_chat_completion(\n",
    "      messages = [\n",
    "        {\"role\": \"system\", \"content\": \"\"\"You are an intelligent AI agent that can make decisions and use tools to solve problems. \n",
    "        Given the following problem, please select the most appropriate tool to solve it. \n",
    "        Think step-by-step before making a decision.\n",
    "        Provide your response in the following format: <think>step-by-step reasoning</think> <tool>tool name</tool>.\n",
    "        The tool name provided should be one of the tools given in exact.\"\"\"},\n",
    "        {\n",
    "          \"role\": \"user\",\n",
    "          \"content\": f\"Given the following tools: <tools>{tools}</tools>, and the following problem: <problem>{input}</problem>, which tool would you use to solve the problem?\"\n",
    "        }\n",
    "      ]\n",
    "    )\n",
    "\n",
    "    print(\"get_tool response:\", response)\n",
    "\n",
    "    # extract tool name from response\n",
    "    tool_name = re.search(r'<tool>(.*)</tool>', response['choices'][0]['message']['content']).group(1)\n",
    "\n",
    "    # get tool object from tool name\n",
    "    for tool in tools:\n",
    "      if tool.name == tool_name:\n",
    "        return tool\n",
    "      \n",
    "    return None"
   ]
  },
  {
   "cell_type": "code",
   "execution_count": 20,
   "metadata": {},
   "outputs": [
    {
     "name": "stdout",
     "output_type": "stream",
     "text": [
      "Chatbot\n",
      "An intelligent AI chatbot that can generate human-like responses to text input and can be used to provide information, answer questions, and engage in conversation.\n"
     ]
    }
   ],
   "source": [
    "tools = [chatbot, calculator]\n",
    "print(tools[0].name)\n",
    "print(tools[0].description)"
   ]
  },
  {
   "cell_type": "code",
   "execution_count": 21,
   "metadata": {},
   "outputs": [
    {
     "name": "stdout",
     "output_type": "stream",
     "text": [
      "get_tool response: {'id': 'chatcmpl-47305cb9-1a7e-4c40-853a-10270baa4b3e', 'object': 'chat.completion', 'created': 1742010478, 'model': './qwen2.5-7b-instruct-q4_k_m.gguf', 'choices': [{'index': 0, 'message': {'role': 'assistant', 'content': '<think>Step-by-step reasoning:\\n1. The problem is a simple multiplication question: 3x3.\\n2. We have two tools available: a Chatbot and a Calculator.\\n3. The Chatbot is not designed to perform mathematical calculations.\\n4. The Calculator is designed to perform mathematical operations, which includes multiplication.\\n5. Therefore, the most appropriate tool to solve the problem is the Calculator.</think>\\n<tool>Calculator</tool>'}, 'logprobs': None, 'finish_reason': 'stop'}], 'usage': {'prompt_tokens': 187, 'completion_tokens': 91, 'total_tokens': 278}}\n",
      "What is 3x3?:  result=9.0\n"
     ]
    }
   ],
   "source": [
    "# Test agent\n",
    "agent = Agent(tools=tools)\n",
    "\n",
    "print(\"What is 3x3?: \", agent(\"What is 3x3?\"))"
   ]
  },
  {
   "cell_type": "code",
   "execution_count": 22,
   "metadata": {},
   "outputs": [
    {
     "name": "stdout",
     "output_type": "stream",
     "text": [
      "get_tool response: {'id': 'chatcmpl-15d5813b-d92e-469a-9329-2cdf7d74efe3', 'object': 'chat.completion', 'created': 1742010480, 'model': './qwen2.5-7b-instruct-q4_k_m.gguf', 'choices': [{'index': 0, 'message': {'role': 'assistant', 'content': '<think>Step-by-step reasoning:\\n1. The problem \"What matter is water?\" is asking about the composition or nature of water.\\n2. The tools available are a Chatbot and a Calculator.\\n3. A Chatbot can provide conversational and informational responses, which might include scientific facts about water.\\n4. A Calculator is used for mathematical operations and does not provide scientific information.\\n5. Since the question is about the nature of water, a scientific or informational response is needed.</think>\\n<tool>Chatbot</tool>'}, 'logprobs': None, 'finish_reason': 'stop'}], 'usage': {'prompt_tokens': 185, 'completion_tokens': 108, 'total_tokens': 293}}\n",
      "What matter is water:  response='Water is a chemical substance with the chemical formula H₂O. It consists of hydrogen and oxygen atoms bonded together. Here are some key points about the matter of water:\\n\\n1. **Chemical Composition**: Water is composed of two hydrogen atoms and one oxygen atom.\\n\\n2. **Molecular Structure**: The molecular structure of water is bent, with the oxygen atom at the center and the hydrogen atoms forming a 104.5-degree angle with each other.\\n\\n3. **State of Matter**: Water can exist in three states:\\n   - **Solid (Ice)**: When water is frozen, it forms a crystalline structure.\\n   - **Liquid**: This is the most common state of water on Earth.\\n   - **Gas (Water Vapor)**: When water is heated to its boiling point, it turns into water vapor.\\n\\n4. **Physical Properties**: Water has unique properties such as high specific heat, high surface tension, and the ability to dissolve many substances, which are due to its molecular structure and hydrogen bonding.\\n\\n5. **Chemical Properties**: Water is a weak electrolyte, meaning it can partially dissociate into hydrogen ions (H⁺) and hydroxide ions (OH⁻) in solution.\\n\\nUnderstanding the matter of water is crucial in various fields, including chemistry, biology, and environmental science.'\n"
     ]
    }
   ],
   "source": [
    "print(\"What matter is water: \", agent(\"What matter is water?\"))"
   ]
  }
 ],
 "metadata": {
  "kernelspec": {
   "display_name": "RAG-chat",
   "language": "python",
   "name": "python3"
  },
  "language_info": {
   "codemirror_mode": {
    "name": "ipython",
    "version": 3
   },
   "file_extension": ".py",
   "mimetype": "text/x-python",
   "name": "python",
   "nbconvert_exporter": "python",
   "pygments_lexer": "ipython3",
   "version": "3.12.2"
  }
 },
 "nbformat": 4,
 "nbformat_minor": 2
}
